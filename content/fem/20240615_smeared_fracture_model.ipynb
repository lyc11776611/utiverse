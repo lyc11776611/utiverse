{
 "cells": [
  {
   "cell_type": "markdown",
   "metadata": {},
   "source": [
    "# Smeared Fracture Model\n",
    "弥散开裂模型\n",
    "\n",
    "Smeared fracture model is used to simulate fracture generation process. It describe the fracture in the domain by defining a stiffness ratio vector $\\textbf{c}$. Such stiffness ratio is used to weaken the material so that less stress will be correspond to larger strain. \n"
   ]
  }
 ],
 "metadata": {
  "language_info": {
   "name": "python"
  }
 },
 "nbformat": 4,
 "nbformat_minor": 2
}
