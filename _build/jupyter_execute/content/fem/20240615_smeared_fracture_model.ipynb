{
 "cells": [
  {
   "cell_type": "markdown",
   "metadata": {},
   "source": [
    "# Smeared Fracture Model\n",
    "弥散开裂模型\n",
    "\n",
    "Smeared fracture model is used to simulate fracture generation process. It describe the fracture in the domain by defining a stiffness ratio vector $\\textbf{c}$. Such stiffness ratio is used to weaken the material so that less stress will be correspond to larger strain. \n"
   ]
  }
 ],
 "metadata": {
  "language_info": {
   "codemirror_mode": {
    "name": "ipython",
    "version": 3
   },
   "file_extension": ".py",
   "mimetype": "text/x-python",
   "name": "python",
   "nbconvert_exporter": "python",
   "pygments_lexer": "ipython3",
   "version": "3.11.8"
  }
 },
 "nbformat": 4,
 "nbformat_minor": 2
}